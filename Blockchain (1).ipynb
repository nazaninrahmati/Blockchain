{
 "cells": [
  {
   "cell_type": "markdown",
   "id": "b04055e0",
   "metadata": {},
   "source": [
    "## Solidity\n"
   ]
  },
  {
   "cell_type": "markdown",
   "id": "5e7c39af",
   "metadata": {},
   "source": [
    "Solidity is an object-oriented, high-level language for implementing smart contracts. Smart contracts are programs that govern the behavior of accounts within the Ethereum state.\n",
    "\n",
    "Solidity is a curly-bracket language. It is influenced by C++, Python, and JavaScript, and is designed to target the Ethereum Virtual Machine (EVM). \n",
    "\n",
    "Solidity is statically typed, supports inheritance, libraries, and complex user-defined types among other features.With Solidity, you can create contracts for uses such as voting, crowdfunding, blind auctions, and multi-signature wallets."
   ]
  },
  {
   "cell_type": "markdown",
   "id": "5cccb6e8",
   "metadata": {},
   "source": [
    "## Introduction to Smart Contracts\n",
    "\n",
    "### A Simple Smart Contract\n"
   ]
  },
  {
   "cell_type": "code",
   "execution_count": 2,
   "id": "639d0d5a",
   "metadata": {
    "scrolled": true
   },
   "outputs": [
    {
     "ename": "SyntaxError",
     "evalue": "invalid syntax (<ipython-input-2-169990aa3df9>, line 1)",
     "output_type": "error",
     "traceback": [
      "\u001b[1;36m  File \u001b[1;32m\"<ipython-input-2-169990aa3df9>\"\u001b[1;36m, line \u001b[1;32m1\u001b[0m\n\u001b[1;33m    pragma solidity >=0.4.16 <0.9.0;\u001b[0m\n\u001b[1;37m           ^\u001b[0m\n\u001b[1;31mSyntaxError\u001b[0m\u001b[1;31m:\u001b[0m invalid syntax\n"
     ]
    }
   ],
   "source": [
    "pragma solidity >=0.4.16 <0.9.0;         ## Version of the solidity\n",
    "\n",
    "contract SimpleStorage {                 ## name of the contract \n",
    "    uint storedData;\n",
    "\n",
    "    function set(uint x) public {        ## definition of finction\n",
    "        storedData = x;\n",
    "    }\n",
    "\n",
    "    function get() public view returns (uint) {\n",
    "        return storedData;\n",
    "    }\n",
    "}"
   ]
  },
  {
   "cell_type": "markdown",
   "id": "efeaf1bc",
   "metadata": {},
   "source": [
    "## Explore value types\n"
   ]
  },
  {
   "cell_type": "markdown",
   "id": "4b3ce173",
   "metadata": {},
   "source": [
    " ### 1. Integers"
   ]
  },
  {
   "cell_type": "markdown",
   "id": "805d4cef",
   "metadata": {},
   "source": [
    "Integers are used in every Solidity source file. They represent whole numbers and can either be signed or unsigned. Integers range from 8 bits to 256 bits that they can store.\n",
    "\n",
    "    Signed: Include negative and positive numbers. Can represent as int.\n",
    "    Unsigned: Includes positive numbers only. Can represent as uint.\n",
    "    \n",
    "If a number of bits isn't specified, the default value is 256 bits.\n",
    "The following operations can be applied to integers:\n",
    "\n",
    "    Comparisons: <=, <, ==, !=, >=, >\n",
    "    Bit operators: & (and), | (or), ^ (bitwise exclusive), ~ (bitwise negation)\n",
    "    Arithmetic operators: + (addition),- (subtraction), * (multiplication), / (division), % (modulo), ** (exponential)"
   ]
  },
  {
   "cell_type": "code",
   "execution_count": null,
   "id": "c0b365a1",
   "metadata": {},
   "outputs": [],
   "source": [
    "int32 price = 25; // signed 32 bit integer      ## example for Integer\n",
    "uint256 balance = 1000; // unsigned 256 bit integer\n",
    "\n",
    "balance - price; // 975\n",
    "2 * price; // 50\n",
    "price % 2; // 1"
   ]
  },
  {
   "cell_type": "markdown",
   "id": "fcc65d1f",
   "metadata": {},
   "source": [
    "### 2.Booleans"
   ]
  },
  {
   "cell_type": "markdown",
   "id": "d9462872",
   "metadata": {},
   "source": [
    "Booleans are defined using the keyword bool. They always have a value of either true or false."
   ]
  },
  {
   "cell_type": "code",
   "execution_count": null,
   "id": "19b91cb5",
   "metadata": {},
   "outputs": [],
   "source": [
    "bool forSale; //true if an item is for sale                ## example for Boolean\n",
    "bool purchased; //true if an item has been purchased"
   ]
  },
  {
   "cell_type": "markdown",
   "id": "0f509911",
   "metadata": {},
   "source": [
    "### 3.String literals"
   ]
  },
  {
   "cell_type": "markdown",
   "id": "b7d0ee79",
   "metadata": {},
   "source": [
    "String literals are also used in most contract files. They're characters or words surrounded by either double or single-quotes."
   ]
  },
  {
   "cell_type": "code",
   "execution_count": null,
   "id": "64fda27b",
   "metadata": {},
   "outputs": [],
   "source": [
    "String shipped = \"shipped\"; // shipped                     ## example for String\n",
    "\n",
    "String delivered = 'delivered'; // delivered\n",
    "\n",
    "String newItem = \"new\" \"Item\"; // newItem"
   ]
  },
  {
   "cell_type": "markdown",
   "id": "77a9c5c1",
   "metadata": {},
   "source": [
    "### 4.Address"
   ]
  },
  {
   "cell_type": "markdown",
   "id": "ce920d6b",
   "metadata": {},
   "source": [
    "An address is a type with a 20-byte value that represents an Ethereum user account. This type can either be a regular address or an address payable.\n",
    "\n",
    "The difference between the two is that an address payable type is an address that you can send Ether to, and it contains the additional members transfer and send."
   ]
  },
  {
   "cell_type": "code",
   "execution_count": null,
   "id": "08d7fe05",
   "metadata": {},
   "outputs": [],
   "source": [
    "address payable public seller; // account for the seller               ## example for Address\n",
    "\n",
    "address payable public buyer; // account for the user\n",
    "\n",
    "function transfer(address buyer, uint price) {\n",
    "    \n",
    "buyer.transfer(price); // the transfer member transfers the price of the item\n",
    "}"
   ]
  },
  {
   "cell_type": "markdown",
   "id": "4d48d324",
   "metadata": {},
   "source": [
    "### 5.Enums"
   ]
  },
  {
   "cell_type": "markdown",
   "id": "4aa205bb",
   "metadata": {},
   "source": [
    "Enums allow you to create a user-defined type in Solidity. It's called user-defined because the person creating the contract decides what values to include. Enums can be used to present a number of selectable choices, one of which is required.\n",
    "\n",
    "An enum could be used, for example, to present different statuses for an item. You can think of enums as representing multiple-choice answers where all the values are pre-defined, and you have to select one. Enums can be declared in contract or library definitions."
   ]
  },
  {
   "cell_type": "code",
   "execution_count": null,
   "id": "e623220e",
   "metadata": {},
   "outputs": [],
   "source": [
    "enum Status {                                                         ## example for Enum\n",
    "    Pending,\n",
    "    Shipped,\n",
    "    Delivered \n",
    "}\n",
    "Status public status;\n",
    "constructor() public {\n",
    "    status = Status.Pending;\n",
    "}"
   ]
  },
  {
   "cell_type": "markdown",
   "id": "050ac6ae",
   "metadata": {},
   "source": [
    "## Explore reference types"
   ]
  },
  {
   "cell_type": "markdown",
   "id": "0e429b2a",
   "metadata": {},
   "source": [
    "When writing contracts, you should also understand reference types. Unlike value types, which always pass an independent copy of the value, reference types provide a data location to the value. The three reference types are structs, arrays, and mappings."
   ]
  },
  {
   "cell_type": "markdown",
   "id": "7ce25f5c",
   "metadata": {},
   "source": [
    " ### 1. Data location"
   ]
  },
  {
   "cell_type": "markdown",
   "id": "88f8fb17",
   "metadata": {},
   "source": [
    "When you use a reference type, you must explicitly provide the data storage location for the type. The following options can be used to specify the data location where the type is stored:"
   ]
  },
  {
   "cell_type": "markdown",
   "id": "b99c2ef0",
   "metadata": {},
   "source": [
    "  #### memory  \n",
    "  \n",
    "  The location where function arguments are stored. Has a lifetime limited to external function call"
   ]
  },
  {
   "cell_type": "markdown",
   "id": "d7034834",
   "metadata": {},
   "source": [
    "#### storage\n",
    "\n",
    "The location where state variables are stored. Has a lifetime limited to the contract lifetime."
   ]
  },
  {
   "cell_type": "markdown",
   "id": "163554d1",
   "metadata": {},
   "source": [
    "#### calldata\n",
    "\n",
    "The location where function arguments are stored. Required for parameters of external functions, but can also be used for other variables. Has a lifetime limited to external function call."
   ]
  },
  {
   "cell_type": "code",
   "execution_count": null,
   "id": "54d26b47",
   "metadata": {},
   "outputs": [],
   "source": [
    "contract C {                                                     ## example of reference type\n",
    "    uint[] x;\n",
    "    // the data location of values is memory\n",
    "    function buy(uint[] memory values) public {\n",
    "        x = value; // copies array to storage\n",
    "        uint[] storage y = x; //data location of y is storage\n",
    "        g(x); // calls g, handing over reference to x\n",
    "        h(x); // calls h, and creates a temporary copy in memory\n",
    "    }\n",
    "    function g(uint[] storage) internal pure {}\n",
    "    function h(uint[] memory) public pure {}\n",
    "}"
   ]
  },
  {
   "cell_type": "markdown",
   "id": "68d90b55",
   "metadata": {},
   "source": [
    "#### 2. Arrays\n",
    "\n",
    "Arrays are a way to store similar data in a set data structure. Arrays can either have a fixed or dynamic size. Their indices start at 0.To create an array of fixed size k and element type T, you'd write T[k]. For a dynamic size array, you'd write T[ ].\n",
    "Array elements can be of any type. For example, they can contain uint, memory, or bytes. Arrays can also include mappings or structs."
   ]
  },
  {
   "cell_type": "code",
   "execution_count": null,
   "id": "deb833d2",
   "metadata": {},
   "outputs": [],
   "source": [
    "uint[] itemIds; // Declare a dynamic sized array called itemIds                ## example of Array\n",
    "\n",
    "uint[3] prices = [1, 2, 3]; // initialize a fixed size array called prices, with prices 1, 2, and 3\n",
    "\n",
    "uint[] prices = [1, 2, 3]; // same as above"
   ]
  },
  {
   "cell_type": "markdown",
   "id": "75943a15",
   "metadata": {},
   "source": [
    "### Array members"
   ]
  },
  {
   "cell_type": "markdown",
   "id": "beb362f6",
   "metadata": {},
   "source": [
    "The following members can both manipulate and get information about arrays:\n",
    "    \n",
    "    length: Get the length of an array\n",
    "        \n",
    "    push(): Append an element at the end of the array\n",
    "        \n",
    "    pop: Remove an element from the end of an array"
   ]
  },
  {
   "cell_type": "code",
   "execution_count": null,
   "id": "0709da26",
   "metadata": {},
   "outputs": [],
   "source": [
    "// Create a dynamic byte array                                               ## example of Array\n",
    "bytes32[] itemNames;\n",
    "\n",
    "itemNames.push(bytes32(\"computer\")); // adds \"computer\" to the array\n",
    "\n",
    "itemNames.length; // "
   ]
  },
  {
   "cell_type": "markdown",
   "id": "797260d2",
   "metadata": {},
   "source": [
    "#### 3.Structs\n",
    "\n",
    "Structs are custom types that a user can define to represent real-world objects. Structs are typically used as schema or to represent records."
   ]
  },
  {
   "cell_type": "code",
   "execution_count": null,
   "id": "2c65c6f6",
   "metadata": {},
   "outputs": [],
   "source": [
    "struct Items_Schema {                                                             ## example of Struct\n",
    "    uint256 _id:\n",
    "    uint256 _price:\n",
    "    string _name;\n",
    "    string _description;\n",
    "}"
   ]
  },
  {
   "cell_type": "markdown",
   "id": "64823273",
   "metadata": {},
   "source": [
    "#### 3. Mapping types\n",
    "\n",
    "Mappings are key value pairs that are encapsulated or packaged together. Mappings are closest to dictionaries or objects in JavaScript. You typically use mappings to model real-world objects and perform faster data lookups. The values could take on various types, including complex types like structs, making this type flexible and human readable.\n",
    "\n",
    "The following code example uses the struct Items_Schema and saves a list of items represented by the Items_Schema as a dictionary. In this way, the mapping mimics a database."
   ]
  },
  {
   "cell_type": "code",
   "execution_count": null,
   "id": "4079154c",
   "metadata": {},
   "outputs": [],
   "source": [
    "contract Items {                                                                  ## example of Mapping\n",
    "    uint256 item_id = 0;\n",
    "    mapping(uint256 => Items_Schema) public items;\n",
    "    struct Items_Schema {\n",
    "        uint256 _id:\n",
    "        uint256 _price:\n",
    "        string _name;\n",
    "    }\n",
    "    function listItem(uint 256 memory _price, string memory _name) public {\n",
    "        item_id += 1;\n",
    "        item[vehicle_id] = Items_Schema(item_id, _price, _name);\n",
    "    }\n",
    "}"
   ]
  },
  {
   "cell_type": "markdown",
   "id": "6de03925",
   "metadata": {},
   "source": [
    "## Transactions\n",
    " \n",
    " A blockchain is a globally shared, transactional database. This means that everyone can read entries in the database just by participating in the network. If you want to change something in the database, you have to create a so-called transaction that has to be accepted by all others. The word transaction implies that the change you want to make (assume you want to change two values at the same time) is either not done at all or completely applied. Furthermore, while your transaction is being applied to the database, no other transaction can alter it.\n",
    "\n",
    "Furthermore, a transaction is always cryptographically signed by the sender (creator). This makes it straightforward to guard access to specific modifications of the database.    \n"
   ]
  },
  {
   "cell_type": "markdown",
   "id": "0514a5d0",
   "metadata": {},
   "source": [
    "## Blocks\n",
    "\n",
    "One major obstacle to overcome is what (in Bitcoin terms) is called a “double-spend attack”: What happens if two transactions exist in the network that both want to empty an account? Only one of the transactions can be valid, typically the one that is accepted first. The problem is that “first” is not an objective term in a peer-to-peer network.\n",
    "\n",
    "The abstract answer to this is that you do not have to care. A globally accepted order of the transactions will be selected for you, solving the conflict. The transactions will be bundled into what is called a “block” and then they will be executed and distributed among all participating nodes. If two transactions contradict each other, the one that ends up being second will be rejected and not become part of the block.\n",
    "\n",
    "These blocks form a linear sequence in time and that is where the word “blockchain” derives from. Blocks are added to the chain in rather regular intervals - for Ethereum this is roughly every 17 seconds.\n",
    "\n",
    "As part of the “order selection mechanism” (which is called “mining”) it may happen that blocks are reverted from time to time, but only at the “tip” of the chain. The more blocks are added on top of a particular block, the less likely this block will be reverted. So it might be that your transactions are reverted and even removed from the blockchain, but the longer you wait, the less likely it will be."
   ]
  },
  {
   "cell_type": "markdown",
   "id": "76b99e84",
   "metadata": {},
   "source": [
    "### The Ethereum Virtual Machine\n",
    "\n",
    "The Ethereum Virtual Machine or EVM is the runtime environment for smart contracts in Ethereum.\n"
   ]
  },
  {
   "cell_type": "markdown",
   "id": "f51fb3ba",
   "metadata": {},
   "source": [
    "### Gas\n",
    "\n",
    "Upon creation, each transaction is charged with a certain amount of gas, whose purpose is to limit the amount of work that is needed to execute the transaction and to pay for this execution at the same time. While the EVM executes the transaction, the gas is gradually depleted according to specific rules.\n",
    "\n",
    "The gas price is a value set by the creator of the transaction, who has to pay gas_price * gas upfront from the sending account. If some gas is left after the execution, it is refunded to the creator in the same way."
   ]
  },
  {
   "cell_type": "markdown",
   "id": "fbb3a2ea",
   "metadata": {},
   "source": [
    "## Installing the Solidity Compiler\n"
   ]
  },
  {
   "cell_type": "markdown",
   "id": "0755a476",
   "metadata": {},
   "source": [
    "### Versioning"
   ]
  },
  {
   "cell_type": "markdown",
   "id": "095528f7",
   "metadata": {},
   "source": [
    "### Method 1 - Remix\n",
    "\n",
    "We recommend Remix for small contracts and for quickly learning Solidity. Access Remix online, you do not need to install anything.\n",
    "\n",
    "https://remix.ethereum.org"
   ]
  },
  {
   "cell_type": "markdown",
   "id": "11eccf04",
   "metadata": {},
   "source": [
    "### Method 2 - npm / Node.js"
   ]
  },
  {
   "cell_type": "markdown",
   "id": "768e9673",
   "metadata": {},
   "source": [
    "This is the fastest way to install Solidity compiler on your CentoS Machine. We have following steps to install Solidity Compiler:"
   ]
  },
  {
   "cell_type": "markdown",
   "id": "7d8a4ab0",
   "metadata": {},
   "source": [
    "  ### 1. Install Node.js"
   ]
  },
  {
   "cell_type": "markdown",
   "id": "6cb27e53",
   "metadata": {},
   "source": [
    "Install Visual studio code https://code.visualstudio.com/"
   ]
  },
  {
   "cell_type": "markdown",
   "id": "6e5a90aa",
   "metadata": {},
   "source": [
    "First, make sure you have node.js available on your CentOS machine. If it is not available then install it using the following commands:"
   ]
  },
  {
   "cell_type": "code",
   "execution_count": null,
   "id": "21988698",
   "metadata": {},
   "outputs": [],
   "source": [
    "# First install epel-release\n",
    "$sudo yum install epel-release\n",
    "# Now install nodejs\n",
    "$sudo yum install nodejs\n",
    "# Next install npm (Nodejs Package Manager )\n",
    "$sudo yum install npm\n",
    "# Finally verify installation\n",
    "$npm --version"
   ]
  },
  {
   "cell_type": "code",
   "execution_count": null,
   "id": "3210d699",
   "metadata": {},
   "outputs": [],
   "source": [
    "$sudo npm install -g solc"
   ]
  },
  {
   "cell_type": "markdown",
   "id": "8928ae79",
   "metadata": {},
   "source": [
    "If everything has been installed then you will see an output something like this:"
   ]
  },
  {
   "cell_type": "code",
   "execution_count": null,
   "id": "71e41c9f",
   "metadata": {},
   "outputs": [],
   "source": [
    "3.10.10"
   ]
  },
  {
   "cell_type": "markdown",
   "id": "fd8f2bfc",
   "metadata": {},
   "source": [
    "### 2. Install solc Linux Packages\n"
   ]
  },
  {
   "cell_type": "markdown",
   "id": "b43b0219",
   "metadata": {},
   "source": [
    "Once you have Node.js package manager installed then you can proceed to install Solidity compiler as below:"
   ]
  },
  {
   "cell_type": "code",
   "execution_count": null,
   "id": "332067b4",
   "metadata": {},
   "outputs": [],
   "source": [
    "$sudo npm install -g solc"
   ]
  },
  {
   "cell_type": "markdown",
   "id": "9d74af6f",
   "metadata": {},
   "source": [
    "The above command will install solcjs program and will make it available globally throughout the system. Now you can test your Solidity compiler by issuing the following command:"
   ]
  },
  {
   "cell_type": "code",
   "execution_count": null,
   "id": "d01ce400",
   "metadata": {},
   "outputs": [],
   "source": [
    "solcjs --version"
   ]
  },
  {
   "cell_type": "markdown",
   "id": "245e3d78",
   "metadata": {},
   "source": [
    "If everything goes fine, then this will print something as follows:"
   ]
  },
  {
   "cell_type": "code",
   "execution_count": null,
   "id": "b95cee7c",
   "metadata": {},
   "outputs": [],
   "source": [
    "0.5.2+commit.1df8f40c.Emscripten.clang"
   ]
  },
  {
   "cell_type": "markdown",
   "id": "42a74e1c",
   "metadata": {},
   "source": [
    "Now you are ready to use solcjs which has fewer features than the standard Solidity compiler but it will give you a good starting point."
   ]
  },
  {
   "cell_type": "markdown",
   "id": "eb902ec1",
   "metadata": {},
   "source": [
    "### Method 3 - Docker Image"
   ]
  },
  {
   "cell_type": "markdown",
   "id": "20715c29",
   "metadata": {},
   "source": [
    "You can pull a Docker image and start using it to start with Solidity programming. Following are the simple steps. Following is the command to pull a Solidity Docker Image."
   ]
  },
  {
   "cell_type": "code",
   "execution_count": null,
   "id": "eaabc3f7",
   "metadata": {},
   "outputs": [],
   "source": [
    "$docker pull ethereum/solc:stable"
   ]
  },
  {
   "cell_type": "markdown",
   "id": "3ca4fab4",
   "metadata": {},
   "source": [
    "Once a docker image is downloaded we can verify it using the following command."
   ]
  },
  {
   "cell_type": "code",
   "execution_count": null,
   "id": "a87f73ea",
   "metadata": {},
   "outputs": [],
   "source": [
    "$docker run ethereum/solc:stable-version"
   ]
  },
  {
   "cell_type": "code",
   "execution_count": null,
   "id": "e1269958",
   "metadata": {},
   "outputs": [],
   "source": [
    "This will print something as follows:"
   ]
  },
  {
   "cell_type": "code",
   "execution_count": null,
   "id": "7bff2abf",
   "metadata": {},
   "outputs": [],
   "source": [
    "$docker run ethereum/solc:stable -versionsolc, the solidity compiler commandlineinterfaceVersion: 0.5.2+commit.1df8f40c.Linux.g++"
   ]
  },
  {
   "cell_type": "markdown",
   "id": "aa1eba96",
   "metadata": {},
   "source": [
    "## Create Project using Truffle"
   ]
  },
  {
   "cell_type": "markdown",
   "id": "387ee21f",
   "metadata": {},
   "source": [
    "Install Visual studio code  https://code.visualstudio.com/\n",
    "\n",
    "Download the Windows installer from  https://nodejs.org/en/download/\n",
    "\n",
    "Run the installer (the .msi file you downloaded in the previous step.)\n",
    "\n",
    "Follow the prompts in the installer (Accept the license agreement, click the NEXT button a bunch of times and accept the default installation settings)."
   ]
  },
  {
   "cell_type": "markdown",
   "id": "f1dc16ec",
   "metadata": {},
   "source": [
    "Restart your computer. You won’t be able to run Node.js until you restart your computer.\n",
    "\n",
    "Test Node. To see if Node is installed, open the Windows Command Prompt, Powershell, or a similar command-line tool, and type:"
   ]
  },
  {
   "cell_type": "code",
   "execution_count": null,
   "id": "a591d23d",
   "metadata": {},
   "outputs": [],
   "source": [
    "C:\\Users\\rahmati>node -v\n",
    "    \n",
    "v13.14.0"
   ]
  },
  {
   "cell_type": "markdown",
   "id": "48f0bb1d",
   "metadata": {},
   "source": [
    "Test NPM. To see if NPM is installed, type:"
   ]
  },
  {
   "cell_type": "code",
   "execution_count": null,
   "id": "a95f6b86",
   "metadata": {},
   "outputs": [],
   "source": [
    "C:\\Users\\rahmati>npm -v\n",
    "6.14.4"
   ]
  },
  {
   "cell_type": "markdown",
   "id": "9f3ee959",
   "metadata": {},
   "source": [
    "Create a test file and run it. A simple way to test that node.js works is to create a simple JavaScript file: name it hello.js, and just add the code console.log('Node is installed!');. To run the code simply open your command-line program, navigate to the folder where you save the file, and type node hello.js. "
   ]
  },
  {
   "cell_type": "code",
   "execution_count": null,
   "id": "596d3f44",
   "metadata": {},
   "outputs": [],
   "source": [
    "D:\\>node hello.js\n",
    "Node is installed!\n",
    "D:\\>"
   ]
  },
  {
   "cell_type": "markdown",
   "id": "99c46851",
   "metadata": {},
   "source": [
    "## 3. Install Ganache"
   ]
  },
  {
   "cell_type": "markdown",
   "id": "ba8ee3d6",
   "metadata": {},
   "source": [
    "Download the appropriate version for your OS:https://www.trufflesuite.com/ganache"
   ]
  },
  {
   "cell_type": "markdown",
   "id": "3468b87a",
   "metadata": {},
   "source": [
    "Next, double-click on the downloaded file, follow the prompts, and you're up and running.\n",
    "When you open Ganache for the first time, you'll see the home screen. On this screen, you're prompted to load an existing workspace (if any exist), create a new custom workspace, or quickstart a one-click blockchain with default options."
   ]
  },
  {
   "cell_type": "markdown",
   "id": "8c0bf8f3",
   "metadata": {},
   "source": [
    "## Create a project directory"
   ]
  },
  {
   "cell_type": "code",
   "execution_count": null,
   "id": "e85b7a25",
   "metadata": {},
   "outputs": [],
   "source": [
    "D:\\>mkdir project\n",
    "D:\\>cd project\n",
    "D:\\project>"
   ]
  },
  {
   "cell_type": "markdown",
   "id": "de493139",
   "metadata": {},
   "source": [
    "## Initialize a truffle project inside this directory\n",
    "\n",
    "This initializes a new truffle project."
   ]
  },
  {
   "cell_type": "code",
   "execution_count": null,
   "id": "5a041cd8",
   "metadata": {},
   "outputs": [],
   "source": [
    "D:\\project>truffle init \n",
    "    \n",
    "Starting init...================> \n",
    "\n",
    "Copying project files to D:\\project\n",
    "    \n",
    "Init successful, sweet!\n",
    "\n",
    "Try our scaffold commands to get started: \n",
    "    \n",
    "$ truffle create contract YourContractName # scaffold a contract \n",
    "\n",
    "$ truffle create test YourTestName         # scaffold a test\n",
    "\n",
    "http://trufflesuite.com/docs\n",
    "    \n",
    "D:\\project>dir\n",
    "    \n",
    "Volume in drive D is New Volume \n",
    "\n",
    "Volume Serial Number is 4A1D-B8AE \n",
    "\n",
    "Directory of D:\\project\n",
    "    \n",
    "09/11/2021  02:14 PM    <DIR>           .\n",
    "    \n",
    "09/11/2021  02:14 PM    <DIR>          ..\n",
    "    \n",
    "09/11/2021  02:14 PM    <DIR>          contracts\n",
    "    \n",
    "09/11/2021  02:14 PM    <DIR>          migrations\n",
    "    \n",
    "09/11/2021  02:14 PM    <DIR>          test\n",
    "    \n",
    "10/26/1985  12:45 PM             4,903 truffle-config.js               \n",
    "            \n",
    "            1 File(s)          4,903 bytes               \n",
    "            \n",
    "            5 Dir(s)  93,537,128,448 bytes free\n",
    "            \n",
    "            D:\\project>"
   ]
  },
  {
   "cell_type": "markdown",
   "id": "9595c5a9",
   "metadata": {},
   "source": [
    "## Code truffle-config.js"
   ]
  },
  {
   "cell_type": "code",
   "execution_count": null,
   "id": "b64eec2d",
   "metadata": {},
   "outputs": [],
   "source": [
    "module.exports = {\n",
    "  networks: {\n",
    "    development: {\n",
    "      host: \"127.0.0.1\",\n",
    "      port: 7545,\n",
    "      network_id: \"*\" // Match any network id\n",
    "    }\n",
    "  }\n",
    "};"
   ]
  },
  {
   "cell_type": "markdown",
   "id": "149f948a",
   "metadata": {},
   "source": [
    "## Create a Contract File inside the contracts folder"
   ]
  },
  {
   "cell_type": "markdown",
   "id": "4d1b729d",
   "metadata": {},
   "source": [
    "Let’s write our first contract. Create a new file in the contracts directory called SimpleStorage.sol .Populate SimpleStorage.sol with:"
   ]
  },
  {
   "cell_type": "code",
   "execution_count": null,
   "id": "865097da",
   "metadata": {},
   "outputs": [],
   "source": [
    "pragma solidity ^0.5.0;\n",
    "contract SimpleStorage {\n",
    "    mapping(address => uint256) public favoriteNumbers;\n",
    "    function setFavorite(uint x) public {\n",
    "        favoriteNumbers[msg.sender] = x;\n",
    "    }\n",
    "    function getFavorite() public view returns (uint256) {\n",
    "        return favoriteNumbers[msg.sender];\n",
    "    }\n",
    "}"
   ]
  },
  {
   "cell_type": "markdown",
   "id": "f24e1bbe",
   "metadata": {},
   "source": [
    "## Run the truffle migrations"
   ]
  },
  {
   "cell_type": "code",
   "execution_count": null,
   "id": "4eec83f1",
   "metadata": {},
   "outputs": [],
   "source": [
    "Run the truffle migrations using truffle migrate or truffle migrate --reset ."
   ]
  },
  {
   "cell_type": "code",
   "execution_count": null,
   "id": "8d1cbe96",
   "metadata": {},
   "outputs": [],
   "source": [
    "D:\\project>truffle migrate --reset\n",
    "     \n",
    "Compiling your contracts...===========================\n",
    "> Compiling .\\contracts\\Migrations.sol\n",
    "> Compiling .\\contracts\\SimpleStorage.sol\n",
    "> Artifacts written to D:\\project\\build\\contracts\n",
    "> Compiled successfully using:   \n",
    "- solc: 0.5.16+commit.9c3226ce.Emscripten.clang\n",
    "Starting migrations...======================> \n",
    "Network name:    'development'> \n",
    "Network id:      5777> \n",
    "Block gas limit: 6721975 (0x6691b7)\n",
    "1_initial_migration.js\n",
    "======================   \n",
    "    Deploying 'Migrations'   ----------------------   \n",
    "    >transaction hash:    0x2334b1d6da3b00a5a99d0618166037265074822f97321377fca5e04498a   \n",
    "    > Blocks: 0            Seconds: 0   > contract address:    0x8a9dc11E35604ed9F35ffDeDe7722B4430b7231e   \n",
    "    > block number:        1   > block timestamp:     1631368671   \n",
    "    > account:             0x6137ccc6D83fb0118ED7c39De9AF3275F1e535A6   \n",
    "    > balance:             99.99616114   \n",
    "    > gas used:            191943 (0x2edc7)   \n",
    "    > gas price:           20 gwei   \n",
    "    > value sent:          0 ETH   \n",
    "    > total cost:          0.00383886 ETH   \n",
    "    > Saving migration to chain.   \n",
    "    > Saving artifacts   -------------------------------------   \n",
    "    > Total cost:          0.00383886 ETHSummary=======> Total deployments:   1\n",
    "    > Final cost:          0.00383886 ETHD:\\project>"
   ]
  },
  {
   "cell_type": "code",
   "execution_count": null,
   "id": "be557e55",
   "metadata": {},
   "outputs": [],
   "source": [
    "// SPDX-License-Identifier: MIT                      ## creat simplestorage.sol\n",
    "\n",
    "pragma solidity ^0.6.0;\n",
    "\n",
    "contract SimpleStorage {\n",
    "    \n",
    "    // this will get initialized to 0!\n",
    "    uint256 favoriteNumber;\n",
    "    bool favoriteBool;\n",
    "    \n",
    "    struct People {\n",
    "        uint256 favoriteNumber;\n",
    "        string name;\n",
    "    }\n",
    "    \n",
    "    People[] public people;\n",
    "    mapping(string => uint256) public nameToFavoriteNumber;\n",
    "    \n",
    "    function store(uint256 _favoriteNumber) public {\n",
    "        favoriteNumber = _favoriteNumber;\n",
    "    }\n",
    "    \n",
    "    function retrieve() public view returns(uint256) {\n",
    "        return favoriteNumber;\n",
    "    }\n",
    "    \n",
    "    function addPerson(string memory _name, uint256 _favoriteNumber) public{\n",
    "        people.push(People(_favoriteNumber, _name));\n",
    "        nameToFavoriteNumber[_name] = _favoriteNumber;\n",
    "    }    \n",
    "    \n",
    "}"
   ]
  },
  {
   "cell_type": "code",
   "execution_count": null,
   "id": "3e698d28",
   "metadata": {},
   "outputs": [],
   "source": [
    "// SPDX-License-Identifier: MIT                             ## creat simplefactory.sol and import simplestorage\n",
    "\n",
    "pragma solidity ^0.6.0;\n",
    "\n",
    "import \"./SimpleStorage.sol\"; \n",
    "\n",
    "contract StorageFactory is SimpleStorage {                   ## means inheritence\n",
    "    \n",
    "    SimpleStorage[] public simpleStorageArray;\n",
    "    \n",
    "    function createSimpleStorageContract() public {\n",
    "        SimpleStorage simpleStorage = new SimpleStorage();\n",
    "        simpleStorageArray.push(simpleStorage);\n",
    "    }\n",
    "    \n",
    "    function sfStore(uint256 _simpleStorageIndex, uint256 _simpleStorageNumber) public {\n",
    "        // Address \n",
    "        // ABI \n",
    "        SimpleStorage(address(simpleStorageArray[_simpleStorageIndex])).store(_simpleStorageNumber);\n",
    "    }\n",
    "    \n",
    "    function sfGet(uint256 _simpleStorageIndex) public view returns (uint256) {\n",
    "        return SimpleStorage(address(simpleStorageArray[_simpleStorageIndex])).retrieve();\n",
    "    }\n",
    "}"
   ]
  },
  {
   "cell_type": "code",
   "execution_count": null,
   "id": "f18f17ee",
   "metadata": {},
   "outputs": [],
   "source": [
    "pragma solidity ^0.6.0;                                            ## or you can do this work\n",
    "\n",
    "contract SimpleStorage {\n",
    "    \n",
    "    // this will get initialized to 0!\n",
    "    uint256 favoriteNumber;\n",
    "    bool favoriteBool;\n",
    "    \n",
    "    struct People {\n",
    "        uint256 favoriteNumber;\n",
    "        string name;\n",
    "    }\n",
    "    \n",
    "    People[] public people;\n",
    "    mapping(string => uint256) public nameToFavoriteNumber;\n",
    "    \n",
    "    function store(uint256 _favoriteNumber) public {\n",
    "        favoriteNumber = _favoriteNumber;\n",
    "    }\n",
    "    \n",
    "    function retrieve() public view returns(uint256) {\n",
    "        return favoriteNumber;\n",
    "    }\n",
    "    \n",
    "    function addPerson(string memory _name, uint256 _favoriteNumber) public{\n",
    "        people.push(People(_favoriteNumber, _name));\n",
    "        nameToFavoriteNumber[_name] = _favoriteNumber;\n",
    "    }    \n",
    "    \n",
    "}"
   ]
  },
  {
   "cell_type": "code",
   "execution_count": null,
   "id": "bd5dfaeb",
   "metadata": {},
   "outputs": [],
   "source": [
    "// SPDX-License-Identifier: MIT\n",
    "\n",
    "pragma solidity >=0.6.6 <0.9.0;\n",
    "\n",
    "contract FundMe {\n",
    "    \n",
    "    mapping(address => uint256) public addressToAmountFunded;\n",
    "  \n",
    "    function fund() public payable {\n",
    "        \n",
    "        addressToAmountFunded[msg.sender] += msg.value;\n",
    "    }\n",
    "}"
   ]
  },
  {
   "cell_type": "markdown",
   "id": "b9f115e2",
   "metadata": {},
   "source": [
    "https://docs.chain.link/docs/make-a-http-get-request/"
   ]
  },
  {
   "cell_type": "markdown",
   "id": "ab68f160",
   "metadata": {},
   "source": [
    "https://docs.chain.link/docs/link-token-contracts/"
   ]
  },
  {
   "cell_type": "markdown",
   "id": "5f6e8eaa",
   "metadata": {},
   "source": [
    "https://faucets.chain.link/kovan?_ga=2.195525546.725040227.1636712423-530293492.1636712423"
   ]
  },
  {
   "cell_type": "markdown",
   "id": "5aef5ecc",
   "metadata": {},
   "source": [
    "## Security Considerations\n"
   ]
  },
  {
   "cell_type": "markdown",
   "id": "fcc38c72",
   "metadata": {},
   "source": [
    "While it is usually quite easy to build software that works as expected, it is much harder to check that nobody can use it in a way that was not anticipated. In Solidity, this is even more important because you can use smart contracts to handle tokens or, possibly, even more, valuable things. Furthermore, every execution of a smart contract happens in public and, in addition to that, the source code is often available."
   ]
  },
  {
   "cell_type": "markdown",
   "id": "7e116d7c",
   "metadata": {},
   "source": [
    "### 1. Two’s Complement / Underflows / Overflows"
   ]
  },
  {
   "cell_type": "markdown",
   "id": "a114136a",
   "metadata": {},
   "source": [
    "As in many programming languages, Solidity’s integer types are not actually integers. They resemble integers when the values are small, but behave differently if the numbers are larger. For example, the following is true: uint8(255) + uint8(1) == 0. This situation is called an overflow. It occurs when an operation is performed that requires a fixed size variable to store a number (or piece of data) that is outside the range of the variable’s data type. An underflow is the converse situation: uint8(0) - uint8(1) == 255.\n",
    "\n",
    "In general, read about the limits of two’s complement representation, which even has some more special edge cases for signed numbers.Try to use require to limit the size of inputs to a reasonable range and use the SMT checker to find potential overflows, or use a library like SafeMath if you want all overflows to cause a revert.\n",
    "\n",
    "Code such as require((balanceOf[_to] + _value) >= balanceOf[_to]) can also help you check if values are what you expect."
   ]
  },
  {
   "cell_type": "code",
   "execution_count": null,
   "id": "fad649b6",
   "metadata": {},
   "outputs": [],
   "source": [
    "/ SPDX-License-Identifier: MIT                    ## example of \n",
    "\n",
    "pragma solidity >=0.6.6 <0.9.0;\n",
    "\n",
    "contract Overflow{\n",
    "    \n",
    "    function overflow()public view returns(uint8){\n",
    "        uint8 big = 255 + uint8(100);\n",
    "        return big;\n",
    "        \n",
    "    }\n",
    "    \n",
    "}"
   ]
  },
  {
   "cell_type": "markdown",
   "id": "7b2e9658",
   "metadata": {},
   "source": [
    "### 2. Safe Math"
   ]
  },
  {
   "cell_type": "markdown",
   "id": "5314d5d9",
   "metadata": {},
   "source": [
    "Wrappers over Solidity’s arithmetic operations with added overflow checks. Arithmetic operations in Solidity wrap on overflow. This can easily result in bugs, because programmers usually assume that an overflow raises an error, which is the standard behavior in high level programming languages. SafeMath restores this intuition by reverting the transaction when an operation overflows.Using this library instead of the unchecked operations eliminates an entire class of bugs, so it’s recommended to use it always.\n",
    "https://docs.openzeppelin.com/contracts/2.x/api/math"
   ]
  },
  {
   "cell_type": "code",
   "execution_count": null,
   "id": "1d15f9a2",
   "metadata": {},
   "outputs": [],
   "source": [
    "pragma solidity >=0.6.6 <0.9.0;\n",
    "\n",
    "import \"@chainlink/contracts/src/v0.6/interfaces/AggregatorV3Interface.sol\";\n",
    "import \"@chainlink/contracts/src/v0.6/vendor/SafeMathChainlink.sol\";\n",
    "\n",
    "contract FundMe {\n",
    "    using SafeMathChainlink for uint256;\n",
    "    \n",
    "    mapping(address => uint256) public addressToAmountFunded;\n",
    "    address[] public funders;\n",
    "    address public owner;\n",
    "    \n",
    "    constructor() public {\n",
    "        owner = msg.sender;\n",
    "    }\n",
    "    \n",
    "    function fund() public payable {\n",
    "        uint256 minimumUSD = 50 * 10 ** 18;\n",
    "        require(getConversionRate(msg.value) >= minimumUSD, \"You need to spend more ETH!\");\n",
    "        addressToAmountFunded[msg.sender] += msg.value;\n",
    "        funders.push(msg.sender);\n",
    "    }\n",
    "    \n",
    "    function getVersion() public view returns (uint256){\n",
    "        AggregatorV3Interface priceFeed = AggregatorV3Interface(0x8A753747A1Fa494EC906cE90E9f37563A8AF630e);\n",
    "        return priceFeed.version();\n",
    "    }\n",
    "    \n",
    "    function getPrice() public view returns(uint256){\n",
    "        AggregatorV3Interface priceFeed = AggregatorV3Interface(0x8A753747A1Fa494EC906cE90E9f37563A8AF630e);\n",
    "        (,int256 answer,,,) = priceFeed.latestRoundData();\n",
    "         return uint256(answer * 10000000000);\n",
    "    }\n",
    "    \n",
    "    // 1000000000\n",
    "    function getConversionRate(uint256 ethAmount) public view returns (uint256){\n",
    "        uint256 ethPrice = getPrice();\n",
    "        uint256 ethAmountInUsd = (ethPrice * ethAmount) / 1000000000000000000;\n",
    "        return ethAmountInUsd;\n",
    "    }\n",
    "    \n",
    "    modifier onlyOwner {\n",
    "        require(msg.sender == owner);\n",
    "        _;\n",
    "    }\n",
    "    \n",
    "    function withdraw() payable onlyOwner public {\n",
    "        msg.sender.transfer(address(this).balance);\n",
    "        \n",
    "        for (uint256 funderIndex=0; funderIndex < funders.length; funderIndex++){\n",
    "            address funder = funders[funderIndex];\n",
    "            addressToAmountFunded[funder] = 0;\n",
    "        }\n",
    "        funders = new address[](0);\n",
    "    }\n",
    "}\n"
   ]
  },
  {
   "cell_type": "markdown",
   "id": "35ced13a",
   "metadata": {},
   "source": [
    "### Function Modifiers"
   ]
  },
  {
   "cell_type": "markdown",
   "id": "ea09b116",
   "metadata": {},
   "source": [
    "Function Modifiers are used to modify the behaviour of a function. For example to add a prerequisite to a function."
   ]
  },
  {
   "cell_type": "code",
   "execution_count": null,
   "id": "412d31bf",
   "metadata": {},
   "outputs": [],
   "source": []
  }
 ],
 "metadata": {
  "kernelspec": {
   "display_name": "Python 3",
   "language": "python",
   "name": "python3"
  },
  "language_info": {
   "codemirror_mode": {
    "name": "ipython",
    "version": 3
   },
   "file_extension": ".py",
   "mimetype": "text/x-python",
   "name": "python",
   "nbconvert_exporter": "python",
   "pygments_lexer": "ipython3",
   "version": "3.8.8"
  }
 },
 "nbformat": 4,
 "nbformat_minor": 5
}
