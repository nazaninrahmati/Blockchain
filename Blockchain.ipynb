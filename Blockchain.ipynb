{
 "cells": [
  {
   "cell_type": "markdown",
   "id": "c8cf5bf5",
   "metadata": {},
   "source": [
    "## Solidity\n"
   ]
  },
  {
   "cell_type": "markdown",
   "id": "c9099a95",
   "metadata": {},
   "source": [
    "Solidity is an object-oriented, high-level language for implementing smart contracts. Smart contracts are programs that govern the behavior of accounts within the Ethereum state.\n",
    "\n",
    "Solidity is a curly-bracket language. It is influenced by C++, Python, and JavaScript, and is designed to target the Ethereum Virtual Machine (EVM). \n",
    "\n",
    "Solidity is statically typed, supports inheritance, libraries, and complex user-defined types among other features.With Solidity, you can create contracts for uses such as voting, crowdfunding, blind auctions, and multi-signature wallets."
   ]
  },
  {
   "cell_type": "markdown",
   "id": "ee303dd2",
   "metadata": {},
   "source": [
    "## Introduction to Smart Contracts\n",
    "\n",
    "### A Simple Smart Contract\n"
   ]
  },
  {
   "cell_type": "code",
   "execution_count": 2,
   "id": "749e33eb",
   "metadata": {},
   "outputs": [
    {
     "ename": "SyntaxError",
     "evalue": "invalid syntax (<ipython-input-2-169990aa3df9>, line 1)",
     "output_type": "error",
     "traceback": [
      "\u001b[1;36m  File \u001b[1;32m\"<ipython-input-2-169990aa3df9>\"\u001b[1;36m, line \u001b[1;32m1\u001b[0m\n\u001b[1;33m    pragma solidity >=0.4.16 <0.9.0;\u001b[0m\n\u001b[1;37m           ^\u001b[0m\n\u001b[1;31mSyntaxError\u001b[0m\u001b[1;31m:\u001b[0m invalid syntax\n"
     ]
    }
   ],
   "source": [
    "pragma solidity >=0.4.16 <0.9.0;         ## Version of the solidity\n",
    "\n",
    "contract SimpleStorage {                 ## name of the contract \n",
    "    uint storedData;\n",
    "\n",
    "    function set(uint x) public {        ## definition of finction\n",
    "        storedData = x;\n",
    "    }\n",
    "\n",
    "    function get() public view returns (uint) {\n",
    "        return storedData;\n",
    "    }\n",
    "}"
   ]
  },
  {
   "cell_type": "markdown",
   "id": "914fa380",
   "metadata": {},
   "source": [
    "## Explore value types\n"
   ]
  },
  {
   "cell_type": "markdown",
   "id": "67ec22eb",
   "metadata": {},
   "source": [
    " ### 1. Integers"
   ]
  },
  {
   "cell_type": "markdown",
   "id": "b54888a5",
   "metadata": {},
   "source": [
    "Integers are used in every Solidity source file. They represent whole numbers and can either be signed or unsigned. Integers range from 8 bits to 256 bits that they can store.\n",
    "\n",
    "    Signed: Include negative and positive numbers. Can represent as int.\n",
    "    Unsigned: Includes positive numbers only. Can represent as uint.\n",
    "    \n",
    "If a number of bits isn't specified, the default value is 256 bits.\n",
    "The following operations can be applied to integers:\n",
    "\n",
    "    Comparisons: <=, <, ==, !=, >=, >\n",
    "    Bit operators: & (and), | (or), ^ (bitwise exclusive), ~ (bitwise negation)\n",
    "    Arithmetic operators: + (addition),- (subtraction), * (multiplication), / (division), % (modulo), ** (exponential)"
   ]
  },
  {
   "cell_type": "code",
   "execution_count": null,
   "id": "b632edcf",
   "metadata": {},
   "outputs": [],
   "source": [
    "int32 price = 25; // signed 32 bit integer      ## example for Integer\n",
    "uint256 balance = 1000; // unsigned 256 bit integer\n",
    "\n",
    "balance - price; // 975\n",
    "2 * price; // 50\n",
    "price % 2; // 1"
   ]
  },
  {
   "cell_type": "markdown",
   "id": "b6b2d6d1",
   "metadata": {},
   "source": [
    "### 2.Booleans"
   ]
  },
  {
   "cell_type": "markdown",
   "id": "268ffb15",
   "metadata": {},
   "source": [
    "Booleans are defined using the keyword bool. They always have a value of either true or false."
   ]
  },
  {
   "cell_type": "code",
   "execution_count": null,
   "id": "e874c9ea",
   "metadata": {},
   "outputs": [],
   "source": [
    "bool forSale; //true if an item is for sale                ## example for Boolean\n",
    "bool purchased; //true if an item has been purchased"
   ]
  },
  {
   "cell_type": "markdown",
   "id": "de703ec2",
   "metadata": {},
   "source": [
    "### 3.String literals"
   ]
  },
  {
   "cell_type": "markdown",
   "id": "f4fe13f8",
   "metadata": {},
   "source": [
    "String literals are also used in most contract files. They're characters or words surrounded by either double or single-quotes."
   ]
  },
  {
   "cell_type": "code",
   "execution_count": null,
   "id": "03985bb1",
   "metadata": {},
   "outputs": [],
   "source": [
    "String shipped = \"shipped\"; // shipped                     ## example for String\n",
    "\n",
    "String delivered = 'delivered'; // delivered\n",
    "\n",
    "String newItem = \"new\" \"Item\"; // newItem"
   ]
  },
  {
   "cell_type": "markdown",
   "id": "19f6ba1a",
   "metadata": {},
   "source": [
    "### 4.Address"
   ]
  },
  {
   "cell_type": "markdown",
   "id": "620245f3",
   "metadata": {},
   "source": [
    "An address is a type with a 20-byte value that represents an Ethereum user account. This type can either be a regular address or an address payable.\n",
    "\n",
    "The difference between the two is that an address payable type is an address that you can send Ether to, and it contains the additional members transfer and send."
   ]
  },
  {
   "cell_type": "code",
   "execution_count": null,
   "id": "50550209",
   "metadata": {},
   "outputs": [],
   "source": [
    "address payable public seller; // account for the seller               ## example for Address\n",
    "\n",
    "address payable public buyer; // account for the user\n",
    "\n",
    "function transfer(address buyer, uint price) {\n",
    "    \n",
    "buyer.transfer(price); // the transfer member transfers the price of the item\n",
    "}"
   ]
  },
  {
   "cell_type": "markdown",
   "id": "52e79dc5",
   "metadata": {},
   "source": [
    "### 5.Enums"
   ]
  },
  {
   "cell_type": "markdown",
   "id": "f3277f20",
   "metadata": {},
   "source": [
    "Enums allow you to create a user-defined type in Solidity. It's called user-defined because the person creating the contract decides what values to include. Enums can be used to present a number of selectable choices, one of which is required.\n",
    "\n",
    "An enum could be used, for example, to present different statuses for an item. You can think of enums as representing multiple-choice answers where all the values are pre-defined, and you have to select one. Enums can be declared in contract or library definitions."
   ]
  },
  {
   "cell_type": "code",
   "execution_count": null,
   "id": "f65ff3c4",
   "metadata": {},
   "outputs": [],
   "source": [
    "enum Status {                                                         ## example for Enum\n",
    "    Pending,\n",
    "    Shipped,\n",
    "    Delivered \n",
    "}\n",
    "Status public status;\n",
    "constructor() public {\n",
    "    status = Status.Pending;\n",
    "}"
   ]
  },
  {
   "cell_type": "markdown",
   "id": "11cd2d7d",
   "metadata": {},
   "source": [
    "## Explore reference types"
   ]
  },
  {
   "cell_type": "markdown",
   "id": "1e53cc14",
   "metadata": {},
   "source": [
    "When writing contracts, you should also understand reference types. Unlike value types, which always pass an independent copy of the value, reference types provide a data location to the value. The three reference types are structs, arrays, and mappings."
   ]
  },
  {
   "cell_type": "markdown",
   "id": "160b3774",
   "metadata": {},
   "source": [
    " ### 1. Data location"
   ]
  },
  {
   "cell_type": "markdown",
   "id": "b7a8b05a",
   "metadata": {},
   "source": [
    "When you use a reference type, you must explicitly provide the data storage location for the type. The following options can be used to specify the data location where the type is stored:"
   ]
  },
  {
   "cell_type": "markdown",
   "id": "da3a7002",
   "metadata": {},
   "source": [
    "  #### memory  \n",
    "  \n",
    "  The location where function arguments are stored. Has a lifetime limited to external function call"
   ]
  },
  {
   "cell_type": "markdown",
   "id": "d4d1c1aa",
   "metadata": {},
   "source": [
    "#### storage\n",
    "\n",
    "The location where state variables are stored. Has a lifetime limited to the contract lifetime."
   ]
  },
  {
   "cell_type": "markdown",
   "id": "1910afac",
   "metadata": {},
   "source": [
    "#### calldata\n",
    "\n",
    "The location where function arguments are stored. Required for parameters of external functions, but can also be used for other variables. Has a lifetime limited to external function call."
   ]
  },
  {
   "cell_type": "code",
   "execution_count": null,
   "id": "9195dda6",
   "metadata": {},
   "outputs": [],
   "source": [
    "contract C {                                                     ## example of reference type\n",
    "    uint[] x;\n",
    "    // the data location of values is memory\n",
    "    function buy(uint[] memory values) public {\n",
    "        x = value; // copies array to storage\n",
    "        uint[] storage y = x; //data location of y is storage\n",
    "        g(x); // calls g, handing over reference to x\n",
    "        h(x); // calls h, and creates a temporary copy in memory\n",
    "    }\n",
    "    function g(uint[] storage) internal pure {}\n",
    "    function h(uint[] memory) public pure {}\n",
    "}"
   ]
  },
  {
   "cell_type": "markdown",
   "id": "b205464d",
   "metadata": {},
   "source": [
    "#### 2. Arrays\n",
    "\n",
    "Arrays are a way to store similar data in a set data structure. Arrays can either have a fixed or dynamic size. Their indices start at 0.To create an array of fixed size k and element type T, you'd write T[k]. For a dynamic size array, you'd write T[ ].\n",
    "Array elements can be of any type. For example, they can contain uint, memory, or bytes. Arrays can also include mappings or structs."
   ]
  },
  {
   "cell_type": "code",
   "execution_count": null,
   "id": "0204be67",
   "metadata": {},
   "outputs": [],
   "source": [
    "uint[] itemIds; // Declare a dynamic sized array called itemIds                ## example of Array\n",
    "\n",
    "uint[3] prices = [1, 2, 3]; // initialize a fixed size array called prices, with prices 1, 2, and 3\n",
    "\n",
    "uint[] prices = [1, 2, 3]; // same as above"
   ]
  },
  {
   "cell_type": "markdown",
   "id": "355e19c2",
   "metadata": {},
   "source": [
    "### Array members"
   ]
  },
  {
   "cell_type": "markdown",
   "id": "cd3316ad",
   "metadata": {},
   "source": [
    "The following members can both manipulate and get information about arrays:\n",
    "    \n",
    "    length: Get the length of an array\n",
    "        \n",
    "    push(): Append an element at the end of the array\n",
    "        \n",
    "    pop: Remove an element from the end of an array"
   ]
  },
  {
   "cell_type": "code",
   "execution_count": null,
   "id": "cf981272",
   "metadata": {},
   "outputs": [],
   "source": [
    "// Create a dynamic byte array                                               ## example of Array\n",
    "bytes32[] itemNames;\n",
    "\n",
    "itemNames.push(bytes32(\"computer\")); // adds \"computer\" to the array\n",
    "\n",
    "itemNames.length; // "
   ]
  },
  {
   "cell_type": "markdown",
   "id": "ed87e477",
   "metadata": {},
   "source": [
    "#### 3.Structs\n",
    "\n",
    "Structs are custom types that a user can define to represent real-world objects. Structs are typically used as schema or to represent records."
   ]
  },
  {
   "cell_type": "code",
   "execution_count": null,
   "id": "2cc7856f",
   "metadata": {},
   "outputs": [],
   "source": [
    "struct Items_Schema {                                                             ## example of Struct\n",
    "    uint256 _id:\n",
    "    uint256 _price:\n",
    "    string _name;\n",
    "    string _description;\n",
    "}"
   ]
  },
  {
   "cell_type": "markdown",
   "id": "4657561d",
   "metadata": {},
   "source": [
    "#### 3. Mapping types\n",
    "\n",
    "Mappings are key value pairs that are encapsulated or packaged together. Mappings are closest to dictionaries or objects in JavaScript. You typically use mappings to model real-world objects and perform faster data lookups. The values could take on various types, including complex types like structs, making this type flexible and human readable.\n",
    "\n",
    "The following code example uses the struct Items_Schema and saves a list of items represented by the Items_Schema as a dictionary. In this way, the mapping mimics a database."
   ]
  },
  {
   "cell_type": "code",
   "execution_count": null,
   "id": "4b4ee068",
   "metadata": {},
   "outputs": [],
   "source": [
    "contract Items {                                                                  ## example of Mapping\n",
    "    uint256 item_id = 0;\n",
    "    mapping(uint256 => Items_Schema) public items;\n",
    "    struct Items_Schema {\n",
    "        uint256 _id:\n",
    "        uint256 _price:\n",
    "        string _name;\n",
    "    }\n",
    "    function listItem(uint 256 memory _price, string memory _name) public {\n",
    "        item_id += 1;\n",
    "        item[vehicle_id] = Items_Schema(item_id, _price, _name);\n",
    "    }\n",
    "}"
   ]
  },
  {
   "cell_type": "markdown",
   "id": "f517855c",
   "metadata": {},
   "source": [
    "## Transactions\n",
    " \n",
    " A blockchain is a globally shared, transactional database. This means that everyone can read entries in the database just by participating in the network. If you want to change something in the database, you have to create a so-called transaction that has to be accepted by all others. The word transaction implies that the change you want to make (assume you want to change two values at the same time) is either not done at all or completely applied. Furthermore, while your transaction is being applied to the database, no other transaction can alter it.\n",
    "\n",
    "Furthermore, a transaction is always cryptographically signed by the sender (creator). This makes it straightforward to guard access to specific modifications of the database.    \n"
   ]
  },
  {
   "cell_type": "markdown",
   "id": "22c197a2",
   "metadata": {},
   "source": [
    "## Blocks\n",
    "\n",
    "One major obstacle to overcome is what (in Bitcoin terms) is called a “double-spend attack”: What happens if two transactions exist in the network that both want to empty an account? Only one of the transactions can be valid, typically the one that is accepted first. The problem is that “first” is not an objective term in a peer-to-peer network.\n",
    "\n",
    "The abstract answer to this is that you do not have to care. A globally accepted order of the transactions will be selected for you, solving the conflict. The transactions will be bundled into what is called a “block” and then they will be executed and distributed among all participating nodes. If two transactions contradict each other, the one that ends up being second will be rejected and not become part of the block.\n",
    "\n",
    "These blocks form a linear sequence in time and that is where the word “blockchain” derives from. Blocks are added to the chain in rather regular intervals - for Ethereum this is roughly every 17 seconds.\n",
    "\n",
    "As part of the “order selection mechanism” (which is called “mining”) it may happen that blocks are reverted from time to time, but only at the “tip” of the chain. The more blocks are added on top of a particular block, the less likely this block will be reverted. So it might be that your transactions are reverted and even removed from the blockchain, but the longer you wait, the less likely it will be."
   ]
  },
  {
   "cell_type": "markdown",
   "id": "fae86d06",
   "metadata": {},
   "source": [
    "### The Ethereum Virtual Machine\n",
    "\n",
    "The Ethereum Virtual Machine or EVM is the runtime environment for smart contracts in Ethereum.\n"
   ]
  },
  {
   "cell_type": "markdown",
   "id": "5c59b623",
   "metadata": {},
   "source": [
    "### Gas\n",
    "\n",
    "Upon creation, each transaction is charged with a certain amount of gas, whose purpose is to limit the amount of work that is needed to execute the transaction and to pay for this execution at the same time. While the EVM executes the transaction, the gas is gradually depleted according to specific rules.\n",
    "\n",
    "The gas price is a value set by the creator of the transaction, who has to pay gas_price * gas upfront from the sending account. If some gas is left after the execution, it is refunded to the creator in the same way."
   ]
  },
  {
   "cell_type": "markdown",
   "id": "dd65296a",
   "metadata": {},
   "source": [
    "## Installing the Solidity Compiler\n"
   ]
  },
  {
   "cell_type": "markdown",
   "id": "ea036b59",
   "metadata": {},
   "source": [
    "### Versioning"
   ]
  },
  {
   "cell_type": "markdown",
   "id": "872eca96",
   "metadata": {},
   "source": [
    "### Method 1 - Remix\n",
    "\n",
    "We recommend Remix for small contracts and for quickly learning Solidity. Access Remix online, you do not need to install anything.\n",
    "\n",
    "https://remix.ethereum.org"
   ]
  },
  {
   "cell_type": "markdown",
   "id": "7842a9b4",
   "metadata": {},
   "source": [
    "### Method 2 - npm / Node.js"
   ]
  },
  {
   "cell_type": "markdown",
   "id": "d443c985",
   "metadata": {},
   "source": [
    "Download the Windows installer from  https://nodejs.org/en/download/\n",
    "\n",
    "Run the installer (the .msi file you downloaded in the previous step.)\n",
    "\n",
    "Follow the prompts in the installer (Accept the license agreement, click the NEXT button a bunch of times and accept the default installation settings)."
   ]
  },
  {
   "cell_type": "markdown",
   "id": "a3df57b0",
   "metadata": {},
   "source": [
    "Install Visual studio code https://code.visualstudio.com/"
   ]
  },
  {
   "cell_type": "markdown",
   "id": "39410dd4",
   "metadata": {},
   "source": [
    "Restart your computer. You won’t be able to run Node.js until you restart your computer.\n",
    "\n",
    "Test Node. To see if Node is installed, open the Windows Command Prompt, Powershell, or a similar command-line tool, and type:"
   ]
  },
  {
   "cell_type": "markdown",
   "id": "8e4a0e44",
   "metadata": {},
   "source": [
    "  ### 1. Install Node.js"
   ]
  },
  {
   "cell_type": "markdown",
   "id": "45a49eda",
   "metadata": {},
   "source": [
    "First, make sure you have node.js available on your CentOS machine. If it is not available then install it using the following commands:"
   ]
  },
  {
   "cell_type": "code",
   "execution_count": null,
   "id": "4ebb0141",
   "metadata": {},
   "outputs": [],
   "source": [
    "# First install epel-release\n",
    "$sudo yum install epel-release\n",
    "# Now install nodejs\n",
    "$sudo yum install nodejs\n",
    "# Next install npm (Nodejs Package Manager )\n",
    "$sudo yum install npm\n",
    "# Finally verify installation\n",
    "$npm --version"
   ]
  },
  {
   "cell_type": "markdown",
   "id": "a28442bb",
   "metadata": {},
   "source": [
    "If everything has been installed then you will see an output something like this:"
   ]
  },
  {
   "cell_type": "code",
   "execution_count": null,
   "id": "e2d93e3a",
   "metadata": {},
   "outputs": [],
   "source": [
    "3.10.10"
   ]
  },
  {
   "cell_type": "markdown",
   "id": "2bb38247",
   "metadata": {},
   "source": [
    "### 2. Install solc Linux Packages\n"
   ]
  },
  {
   "cell_type": "markdown",
   "id": "d6f3f6b4",
   "metadata": {},
   "source": [
    "Once you have Node.js package manager installed then you can proceed to install Solidity compiler as below:"
   ]
  },
  {
   "cell_type": "code",
   "execution_count": null,
   "id": "3c5f5637",
   "metadata": {},
   "outputs": [],
   "source": [
    "$sudo npm install -g solc"
   ]
  },
  {
   "cell_type": "markdown",
   "id": "c15dee50",
   "metadata": {},
   "source": [
    "The above command will install solcjs program and will make it available globally throughout the system. Now you can test your Solidity compiler by issuing the following command:"
   ]
  },
  {
   "cell_type": "code",
   "execution_count": null,
   "id": "f440607f",
   "metadata": {},
   "outputs": [],
   "source": [
    "solcjs --version"
   ]
  },
  {
   "cell_type": "markdown",
   "id": "ecfa0107",
   "metadata": {},
   "source": [
    "If everything goes fine, then this will print something as follows:"
   ]
  },
  {
   "cell_type": "code",
   "execution_count": null,
   "id": "83d3b6a6",
   "metadata": {},
   "outputs": [],
   "source": [
    "0.5.2+commit.1df8f40c.Emscripten.clang"
   ]
  },
  {
   "cell_type": "markdown",
   "id": "96f532da",
   "metadata": {},
   "source": [
    "Now you are ready to use solcjs which has fewer features than the standard Solidity compiler but it will give you a good starting point."
   ]
  },
  {
   "cell_type": "markdown",
   "id": "ea9993c9",
   "metadata": {},
   "source": [
    "### Method 3 - Docker Image"
   ]
  },
  {
   "cell_type": "markdown",
   "id": "62c9a298",
   "metadata": {},
   "source": [
    "You can pull a Docker image and start using it to start with Solidity programming. Following are the simple steps. Following is the command to pull a Solidity Docker Image."
   ]
  },
  {
   "cell_type": "code",
   "execution_count": null,
   "id": "72912301",
   "metadata": {},
   "outputs": [],
   "source": [
    "$docker pull ethereum/solc:stable"
   ]
  },
  {
   "cell_type": "markdown",
   "id": "d2f17c1b",
   "metadata": {},
   "source": [
    "Once a docker image is downloaded we can verify it using the following command."
   ]
  },
  {
   "cell_type": "code",
   "execution_count": null,
   "id": "ec6d9483",
   "metadata": {},
   "outputs": [],
   "source": [
    "$docker run ethereum/solc:stable-version"
   ]
  },
  {
   "cell_type": "code",
   "execution_count": null,
   "id": "cd028f9e",
   "metadata": {},
   "outputs": [],
   "source": [
    "This will print something as follows:"
   ]
  },
  {
   "cell_type": "code",
   "execution_count": null,
   "id": "ba51e7df",
   "metadata": {},
   "outputs": [],
   "source": [
    "$docker run ethereum/solc:stable -versionsolc, the solidity compiler commandlineinterfaceVersion: 0.5.2+commit.1df8f40c.Linux.g++"
   ]
  }
 ],
 "metadata": {
  "kernelspec": {
   "display_name": "Python 3",
   "language": "python",
   "name": "python3"
  },
  "language_info": {
   "codemirror_mode": {
    "name": "ipython",
    "version": 3
   },
   "file_extension": ".py",
   "mimetype": "text/x-python",
   "name": "python",
   "nbconvert_exporter": "python",
   "pygments_lexer": "ipython3",
   "version": "3.8.8"
  }
 },
 "nbformat": 4,
 "nbformat_minor": 5
}
